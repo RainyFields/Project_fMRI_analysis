{
 "cells": [
  {
   "cell_type": "code",
   "execution_count": 8,
   "id": "380b8dbd-d2a5-421d-bd13-db1f4a2c3cba",
   "metadata": {},
   "outputs": [],
   "source": [
    "import numpy as np\n",
    "# extend to multi-category scenario: not working right now\n",
    "def manual_undersample(trainset, trainlabels):\n",
    "    # Find unique classes and their counts\n",
    "    unique_classes, class_counts = np.unique(trainlabels, return_counts=True)\n",
    "    print(\"unique_classes:\", unique_classes)\n",
    "    # Identify the minority class size\n",
    "    min_class_size = np.min(class_counts)\n",
    "\n",
    "    # Create lists to store the balanced trainset and trainlabels\n",
    "    balanced_trainset_list = []\n",
    "    balanced_trainlabels_list = []\n",
    "\n",
    "    # Under-sample each class to the size of the minority class\n",
    "    for cls in unique_classes:\n",
    "        cls_indices = np.where(trainlabels == cls)[0]\n",
    "        undersample_indices = np.random.choice(cls_indices, size=min_class_size, replace=False)\n",
    "        \n",
    "        balanced_trainset_list.append(trainset[undersample_indices])\n",
    "        balanced_trainlabels_list.append(trainlabels[undersample_indices])\n",
    "\n",
    "    # Combine the balanced classes\n",
    "    balanced_trainset = np.vstack(balanced_trainset_list)\n",
    "    balanced_trainlabels = np.hstack(balanced_trainlabels_list)\n",
    "\n",
    "    return balanced_trainset, balanced_trainlabels"
   ]
  },
  {
   "cell_type": "code",
   "execution_count": null,
   "id": "488c2c3c-ce80-4ae3-89df-395ca239017d",
   "metadata": {},
   "outputs": [],
   "source": []
  },
  {
   "cell_type": "code",
   "execution_count": 14,
   "id": "f2527070-da8b-4c98-b8c8-480010a33b10",
   "metadata": {},
   "outputs": [],
   "source": [
    "# Example usage:\n",
    "# Assuming trainset, trainlabels, testset, and testlabels are your data\n",
    "trainset = np.random.rand(100, 10)  # Replace with your actual trainset\n",
    "trainlabels = np.random.choice([0, 1, 2, 3], size=100)  # Replace with your actual trainlabels\n",
    "testset = np.random.rand(30, 10)  # Replace with your actual testset\n",
    "testlabels = np.random.choice([0, 1, 2, 3], size=30)  # Replace with your actual testlabels\n"
   ]
  },
  {
   "cell_type": "code",
   "execution_count": 15,
   "id": "6f4835e6-81da-412f-aa64-366998e77b54",
   "metadata": {},
   "outputs": [
    {
     "data": {
      "text/plain": [
       "array([3, 3, 2, 3, 1, 0, 2, 3, 0, 0, 0, 3, 1, 3, 2, 0, 3, 0, 1, 1, 3, 2,\n",
       "       2, 2, 2, 2, 0, 0, 0, 3, 0, 0, 3, 3, 3, 0, 1, 2, 0, 1, 1, 3, 0, 0,\n",
       "       3, 2, 3, 0, 2, 2, 1, 1, 2, 1, 1, 3, 3, 3, 3, 3, 2, 0, 2, 1, 0, 2,\n",
       "       1, 3, 3, 0, 0, 3, 3, 2, 2, 2, 1, 0, 3, 2, 0, 0, 3, 1, 1, 0, 0, 2,\n",
       "       1, 0, 3, 2, 3, 2, 0, 1, 3, 1, 3, 3])"
      ]
     },
     "execution_count": 15,
     "metadata": {},
     "output_type": "execute_result"
    }
   ],
   "source": [
    "trainlabels"
   ]
  },
  {
   "cell_type": "code",
   "execution_count": 16,
   "id": "f8322816-f302-41fd-9596-6c889f5b46e1",
   "metadata": {},
   "outputs": [
    {
     "name": "stdout",
     "output_type": "stream",
     "text": [
      "unique_classes: [0 1 2 3]\n"
     ]
    }
   ],
   "source": [
    "balanced_trainset, balanced_trainlabels = manual_undersample(trainset, trainlabels)"
   ]
  },
  {
   "cell_type": "code",
   "execution_count": 17,
   "id": "982c30d0-2d8a-4d47-9951-511c9f3f536a",
   "metadata": {},
   "outputs": [
    {
     "data": {
      "text/plain": [
       "array([0, 0, 0, 0, 0, 0, 0, 0, 0, 0, 0, 0, 0, 0, 0, 0, 0, 0, 0, 1, 1, 1,\n",
       "       1, 1, 1, 1, 1, 1, 1, 1, 1, 1, 1, 1, 1, 1, 1, 1, 2, 2, 2, 2, 2, 2,\n",
       "       2, 2, 2, 2, 2, 2, 2, 2, 2, 2, 2, 2, 2, 3, 3, 3, 3, 3, 3, 3, 3, 3,\n",
       "       3, 3, 3, 3, 3, 3, 3, 3, 3, 3])"
      ]
     },
     "execution_count": 17,
     "metadata": {},
     "output_type": "execute_result"
    }
   ],
   "source": [
    "balanced_trainlabels"
   ]
  },
  {
   "cell_type": "code",
   "execution_count": 18,
   "id": "e7b42a4f-d17c-4ea5-9283-4d355a92bc46",
   "metadata": {},
   "outputs": [
    {
     "name": "stdout",
     "output_type": "stream",
     "text": [
      "unique_classes: [0 1 2 3]\n"
     ]
    }
   ],
   "source": [
    "balanced_testset, balanced_testlabels = manual_undersample(testset, testlabels)"
   ]
  },
  {
   "cell_type": "code",
   "execution_count": null,
   "id": "f7829d7c-676c-415b-8871-3a9774839ae5",
   "metadata": {},
   "outputs": [],
   "source": []
  }
 ],
 "metadata": {
  "kernelspec": {
   "display_name": "Python 3 (ipykernel)",
   "language": "python",
   "name": "python3"
  },
  "language_info": {
   "codemirror_mode": {
    "name": "ipython",
    "version": 3
   },
   "file_extension": ".py",
   "mimetype": "text/x-python",
   "name": "python",
   "nbconvert_exporter": "python",
   "pygments_lexer": "ipython3",
   "version": "3.10.10"
  }
 },
 "nbformat": 4,
 "nbformat_minor": 5
}
